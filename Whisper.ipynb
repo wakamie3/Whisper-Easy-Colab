{
  "nbformat": 4,
  "nbformat_minor": 0,
  "metadata": {
    "colab": {
      "provenance": [],
      "collapsed_sections": [],
      "authorship_tag": "ABX9TyPWVqerX+B304CFxBRW6gjQ",
      "include_colab_link": true
    },
    "kernelspec": {
      "name": "python3",
      "display_name": "Python 3"
    },
    "language_info": {
      "name": "python"
    },
    "accelerator": "GPU"
  },
  "cells": [
    {
      "cell_type": "markdown",
      "metadata": {
        "id": "view-in-github",
        "colab_type": "text"
      },
      "source": [
        "<a href=\"https://colab.research.google.com/github/akitana-airtanker/Whisper-Easy-Colab/blob/main/Whisper_ipynb_%E3%81%AE%E3%82%B3%E3%83%94%E3%83%BC.ipynb\" target=\"_parent\"><img src=\"https://colab.research.google.com/assets/colab-badge.svg\" alt=\"Open In Colab\"/></a>"
      ]
    },
    {
      "cell_type": "markdown",
      "source": [
        "Whisper で音声認識を行います。\n",
        "\n",
        "手順通りに行うと認識した音声は一定ごとに区切られて、start,end 時間とともに、CSV, JSON, Markdown 形式でコピーできるので、そのまま GoogleSheets や Excel に取り込むことが出来ます。\n",
        "\n",
        "**「編集」>「ノートブックの設定」>「ハードウェア アクセラレータ」で、「GPU」を選択してから実行してください**"
      ],
      "metadata": {
        "id": "GPn6rIn8ez0o"
      }
    },
    {
      "cell_type": "code",
      "execution_count": null,
      "metadata": {
        "id": "V_w3zh82VvXq"
      },
      "outputs": [],
      "source": [
        "#@title `Google Drive 接続とセットアップ （左下の▶︎を押す）` in the code cell. { display-mode: \"form\" }\n",
        "from google.colab import drive\n",
        "drive.mount('/content/drive')\n",
        "! pip install git+https://github.com/openai/whisper.git\n",
        "! pip install jiwer\n",
        "import whisper\n",
        "model = whisper.load_model(\"large-v2\")"
      ]
    },
    {
      "cell_type": "code",
      "source": [
        "#@title `ファイル名の設定（右にファイル名を記入して、左下の▶︎を押す）`{ display-mode: \"form\" }\n",
        "file_name = \"GoogleDriveのマイドライブ直下に置いた音声や動画ファイル(mp4,m4a,mp3...)の名称\" #@param {type:\"string\"}"
      ],
      "metadata": {
        "id": "Zx39AuHbXALo"
      },
      "execution_count": null,
      "outputs": []
    },
    {
      "cell_type": "code",
      "source": [
        "#@title `解析と結果出力（左下の▶︎を押す）`{ display-mode: \"form\" }\n",
        "result = model.transcribe(\"/content/drive/MyDrive/\" + file_name)\n",
        "import pandas as pd\n",
        "pd.DataFrame(result[\"segments\"])[[\"id\", \"start\", \"end\", \"text\"]]"
      ],
      "metadata": {
        "id": "4lddumuqYyPG"
      },
      "execution_count": null,
      "outputs": []
    },
    {
      "cell_type": "markdown",
      "source": [
        "結果を特定の形式でコピーする方法\n",
        "\n",
        "\n",
        "---\n",
        "\n",
        "\n",
        "1. 下記のようなアイコンが表示されるのでクリック\n",
        "\n",
        "\n",
        "\n",
        "\n",
        "> ![キラキラアイコン](https://drive.google.com/uc?id=1o_7tRFGNbT-4zUP2p1O99D3Gz9o4AJeb)\n",
        "\n",
        "\n",
        "\n",
        "2. クリックするとコピーアイコンが表示されるのでクリック\n",
        "\n",
        "\n",
        "> ![コピーアイコン](https://drive.google.com/uc?id=1y3x6XFFlZHH5piN_5K_s30sGO9d4_cW5)\n",
        "\n",
        "\n",
        "3. 好きなフォーマットでCopyをクリック（CSVであれば、GoogleSheetsやExcelにコピー可能）\n",
        "\n",
        "> ![フォーマットボタン](https://drive.google.com/uc?id=1Si-PKtcccLrIvFm2zydhpImorhQ-KGch)"
      ],
      "metadata": {
        "id": "AwF0DsobpuEm"
      }
    }
  ]
}
